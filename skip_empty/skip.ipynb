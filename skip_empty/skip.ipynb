{
 "cells": [
  {
   "cell_type": "code",
   "execution_count": 1,
   "id": "3d9a533b-7985-47ed-8ac8-24a12e8e99ff",
   "metadata": {},
   "outputs": [],
   "source": [
    "def get_selected_lines(file_name: str) -> str:\n",
    "    with open (file_name) as f:\n",
    "        lines = f.readlines()\n",
    "        return [line for line in lines if not line.startswith(\" \")]\n",
    "    \n",
    "def create_file(lists, file_name: str) -> None:\n",
    "    with open (file_name, \"w\") as f:\n",
    "        f.writelines(lists)\n",
    "    return None"
   ]
  },
  {
   "cell_type": "code",
   "execution_count": 2,
   "id": "d5391324-7df1-4956-85e5-dfc927f252ad",
   "metadata": {},
   "outputs": [],
   "source": [
    "file_name = \"Cas-_L03_alignedmod2.bed\"\n",
    "data = get_selected_lines(file_name)\n"
   ]
  },
  {
   "cell_type": "code",
   "execution_count": 4,
   "id": "e7d5405e-68a9-4277-a795-84db189c3557",
   "metadata": {},
   "outputs": [],
   "source": [
    "create_file(lists=data, file_name=\"test.txt\")"
   ]
  },
  {
   "cell_type": "code",
   "execution_count": null,
   "id": "d15b5b1b-5e25-42bf-917d-55ca2d922064",
   "metadata": {},
   "outputs": [],
   "source": []
  }
 ],
 "metadata": {
  "kernelspec": {
   "display_name": "Python 3 (ipykernel)",
   "language": "python",
   "name": "python3"
  },
  "language_info": {
   "codemirror_mode": {
    "name": "ipython",
    "version": 3
   },
   "file_extension": ".py",
   "mimetype": "text/x-python",
   "name": "python",
   "nbconvert_exporter": "python",
   "pygments_lexer": "ipython3",
   "version": "3.9.13"
  }
 },
 "nbformat": 4,
 "nbformat_minor": 5
}
