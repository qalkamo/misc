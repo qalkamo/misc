{
 "cells": [
  {
   "cell_type": "code",
   "execution_count": 1,
   "metadata": {
    "collapsed": true,
    "pycharm": {
     "name": "#%%\n"
    }
   },
   "outputs": [
    {
     "name": "stdout",
     "output_type": "stream",
     "text": [
      "input file name:\n",
      "output file name:\n",
      "list of words you are looking for:\n",
      "[4, 1, 0]\n"
     ]
    }
   ],
   "source": [
    "from typing import Union, List\n",
    "import datetime\n",
    "import os\n",
    "\n",
    "\n",
    "def get_nowtime() -> str:\n",
    "    now_time = str(datetime.datetime.now()).split(\".\")[0]\n",
    "    now_time = now_time.replace(\" \", \"_\")\n",
    "    now_time = now_time.replace(\":\", \"_\")\n",
    "    return now_time\n",
    "\n",
    "\n",
    "def text_all_line_with_word(\n",
    "        input_file: str,\n",
    "        output_file,\n",
    "        word_list: Union[str, List[str]],\n",
    ") -> List[int]:\n",
    "    if isinstance(word_list, str):\n",
    "        word_list = [word_list]\n",
    "    now_time = get_nowtime()\n",
    "    os.mkdir(now_time)\n",
    "    cnt_list = [0] * len(word_list)\n",
    "    for i, word in enumerate(word_list):\n",
    "        with open(input_file) as f:\n",
    "            text_list = f.readlines()\n",
    "            for _ in  range(len(text_list)):\n",
    "                text_list_line = text_list[_].split(\" \")\n",
    "                text_list_line[-1] = text_list_line[-1].strip()\n",
    "                if word in text_list_line:\n",
    "                    cnt_list[i] += 1\n",
    "                    file_name, extension = output_file.split(\".\")\n",
    "                    with open(f\"{now_time}/{file_name}_{word}.{extension}\", \"a\") as of:\n",
    "                        of.writelines(f\"{text_list_line}\\n\")\n",
    "    return cnt_list\n",
    "\n",
    "\n",
    "\n",
    "if __name__ == \"__main__\":\n",
    "    print(\"input file name:\")\n",
    "    input_file = str(input())\n",
    "    print(\"output file name:\")\n",
    "    output_file = str(input())\n",
    "    print(\"list of words you are looking for:\")\n",
    "    word_list = list(map(str,input().split()))\n",
    "    print(text_all_line_with_word(input_file, output_file, word_list))\n"
   ]
  },
  {
   "cell_type": "code",
   "execution_count": null,
   "outputs": [],
   "source": [],
   "metadata": {
    "collapsed": false,
    "pycharm": {
     "name": "#%%\n"
    }
   }
  }
 ],
 "metadata": {
  "kernelspec": {
   "display_name": "Python 3",
   "language": "python",
   "name": "python3"
  },
  "language_info": {
   "codemirror_mode": {
    "name": "ipython",
    "version": 2
   },
   "file_extension": ".py",
   "mimetype": "text/x-python",
   "name": "python",
   "nbconvert_exporter": "python",
   "pygments_lexer": "ipython2",
   "version": "2.7.6"
  }
 },
 "nbformat": 4,
 "nbformat_minor": 0
}